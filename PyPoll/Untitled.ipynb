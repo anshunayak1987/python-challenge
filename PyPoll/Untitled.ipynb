{
 "cells": [
  {
   "cell_type": "code",
   "execution_count": 9,
   "id": "d545ebd0",
   "metadata": {},
   "outputs": [],
   "source": [
    "import os\n",
    "import csv\n",
    "pypoll_csv = os.path.join(\".\", \"Resources\", \"election_data.csv\")\n"
   ]
  },
  {
   "cell_type": "code",
   "execution_count": 10,
   "id": "a65b7fb6",
   "metadata": {},
   "outputs": [
    {
     "name": "stdout",
     "output_type": "stream",
     "text": [
      "Header: Ballot ID,County,Candidate\n",
      "\n",
      "369711\n"
     ]
    }
   ],
   "source": [
    "total_number_of_vote = 0\n",
    "total_vote = 0\n",
    "election_data = []\n",
    "with open(pypoll_csv) as csv_file:\n",
    "    csv_reader = csv.reader(csv_file, delimiter=\",\")\n",
    "    # Read the header row first (skip this part if there is no header)\n",
    "    csv_header = next(csv_file)\n",
    "    print(f\"Header: {csv_header}\")\n",
    "    #Read through each row of data after the header\n",
    "    for row in csv_reader:\n",
    "          election_data.append(row[2])\n",
    "          #print (row)        \n",
    "          total_number_of_vote = total_number_of_vote + 1\n",
    "         \n",
    "          \n",
    "    print(total_number_of_vote)\n",
    "   \n",
    "        \n",
    "       "
   ]
  },
  {
   "cell_type": "code",
   "execution_count": 11,
   "id": "c216666b",
   "metadata": {},
   "outputs": [
    {
     "name": "stdout",
     "output_type": "stream",
     "text": [
      "Charles Casper Stockham\n",
      "Diana DeGette\n",
      "Raymon Anthony Doane\n"
     ]
    }
   ],
   "source": [
    "unique_list = []\n",
    "def unique(list1):\n",
    "  \n",
    "    # initialize a null list\n",
    "    #unique_list = []\n",
    "  \n",
    "    # traverse for all elements\n",
    "    for x in list1:\n",
    "        # check if exists in unique_list or not\n",
    "        if x not in unique_list:\n",
    "            unique_list.append(x)\n",
    "    # print list\n",
    "    for x in unique_list:\n",
    "        print(x)\n",
    "unique(election_data)"
   ]
  },
  {
   "cell_type": "code",
   "execution_count": 12,
   "id": "b1e54eda",
   "metadata": {},
   "outputs": [
    {
     "data": {
      "text/plain": [
       "['Charles Casper Stockham', 'Diana DeGette', 'Raymon Anthony Doane']"
      ]
     },
     "execution_count": 12,
     "metadata": {},
     "output_type": "execute_result"
    }
   ],
   "source": [
    "unique_list"
   ]
  },
  {
   "cell_type": "code",
   "execution_count": 13,
   "id": "9895843b",
   "metadata": {},
   "outputs": [],
   "source": [
    "unique_list1 =[]\n",
    "for x in election_data:\n",
    "        # check if exists in unique_list or not\n",
    "        if x == unique_list[0]:\n",
    "            unique_list1.append(x)\n",
    "            \n",
    "unique_list2 =[]\n",
    "for x in election_data:\n",
    "        # check if exists in unique_list or not\n",
    "        if x == unique_list[1]:\n",
    "            unique_list2.append(x)\n",
    "unique_list3 =[]\n",
    "for x in election_data:\n",
    "        # check if exists in unique_list or not\n",
    "        if x == unique_list[2]:\n",
    "            unique_list3.append(x)           "
   ]
  },
  {
   "cell_type": "code",
   "execution_count": 14,
   "id": "ee96bd61",
   "metadata": {},
   "outputs": [],
   "source": [
    "#print(per_vote_charles)\n",
    "num_vote_charles = len(unique_list1)\n",
    "per_vote_charles = (num_vote_charles/total_number_of_vote) * 100\n",
    "#print(per_vote_diana)\n",
    "num_vote_diana = len(unique_list2)\n",
    "per_vote_diana =(num_vote_diana/total_number_of_vote) * 100\n",
    "#print(per_vote_raymon)\n",
    "num_vote_raymon = len(unique_list3)\n",
    "per_vote_raymon =(num_vote_raymon/total_number_of_vote) * 100\n",
    "#print(num_vote_charles,num_vote_diana,num_vote_raymon)\n",
    "\n",
    "if num_vote_charles > num_vote_diana and num_vote_charles > num_vote_raymon:\n",
    "    winner = \"Charles Casper Stockham\"\n",
    "elif num_vote_diana > num_vote_charles and num_vote_diana > num_vote_raymon:\n",
    "    winner = \"Diana DeGette\"\n",
    "elif num_vote_raymon > num_vote_diana and num_vote_raymon >  num_vote_charles:\n",
    "    winner = \"Raymon Anthony Doane\"\n",
    "else :\n",
    "    winner = \"none\"\n"
   ]
  },
  {
   "cell_type": "code",
   "execution_count": 22,
   "id": "9416a513",
   "metadata": {},
   "outputs": [
    {
     "name": "stdout",
     "output_type": "stream",
     "text": [
      "Election Results\n",
      "\n",
      "-------------------------\n",
      "\n",
      "Total Vote: 369711\n",
      "\n",
      "-------------------------\n",
      "\n",
      "Charles Casper Stockham: 23.049% (85213)\n",
      "\n",
      "Diana DeGette: 73.812% (272892)\n",
      "\n",
      "Raymon Anthony Doane:  3.139% (11606)\n",
      "\n",
      "-------------------------\n",
      "\n",
      "Winner: Diana DeGette\n",
      "\n",
      "-------------------------\n",
      "\n"
     ]
    }
   ],
   "source": [
    "#Genrate out put summary\n",
    "print(\"Election Results\"+ \"\\n\")\n",
    "print(\"-------------------------\"+ \"\\n\")\n",
    "print(\"Total Vote: \" + str(total_number_of_vote)+ \"\\n\")\n",
    "print(\"-------------------------\"+ \"\\n\")\n",
    "print(\"Charles Casper Stockham: \" + str(round(per_vote_charles,3)) + \"% (\" + str(num_vote_charles)+\")\" + \"\\n\")\n",
    "print(\"Diana DeGette: \" + str(round(per_vote_diana,3)) + \"% (\" + str(num_vote_diana)+\")\" + \"\\n\")\n",
    "print(\"Raymon Anthony Doane:  \" + str(round(per_vote_raymon,3)) + \"% (\" + str(num_vote_raymon)+\")\" + \"\\n\")\n",
    "print(\"-------------------------\"+ \"\\n\")\n",
    "print(\"Winner: \" + winner+ \"\\n\")\n",
    "print(\"-------------------------\"+ \"\\n\")\n"
   ]
  },
  {
   "cell_type": "code",
   "execution_count": 24,
   "id": "faa837f3",
   "metadata": {},
   "outputs": [],
   "source": [
    "# Specify the file to write to\n",
    "output_path = os.path.join(\".\", \"analysis\",\"election_result.txt\")\n",
    "with open(output_path, \"w\") as text_file:\n",
    "    text_file.write(\"Election Results\"+ \"\\n\"+ \"\\n\")\n",
    "    text_file.write(\"----------------------------\"+ \"\\n\"+ \"\\n\")\n",
    "    text_file.write(\"Total Vote: \" + str(total_number_of_vote)+ \"\\n\"+ \"\\n\")\n",
    "    text_file.write(\"-------------------------\"+ \"\\n\"+ \"\\n\")\n",
    "    text_file.write(\"Charles Casper Stockham: \" + str(round(per_vote_charles,3)) + \"% (\" + str(num_vote_charles)+\")\" + \"\\n\"+ \"\\n\")\n",
    "    text_file.write(\"Diana DeGette: \" + str(round(per_vote_diana,3)) + \"% (\" + str(num_vote_diana)+\")\" + \"\\n\"+ \"\\n\")\n",
    "    text_file.write(\"Raymon Anthony Doane:  \" + str(round(per_vote_raymon,3)) + \"% (\" + str(num_vote_raymon)+\")\" + \"\\n\"+ \"\\n\")\n",
    "    text_file.write(\"-------------------------\" + \"\\n\"+ \"\\n\")\n",
    "    text_file.write(\"Winner: \" + winner +\"\\n\"+ \"\\n\")\n",
    "    text_file.write(\"-------------------------\")"
   ]
  },
  {
   "cell_type": "code",
   "execution_count": null,
   "id": "bd344de2",
   "metadata": {},
   "outputs": [],
   "source": []
  },
  {
   "cell_type": "code",
   "execution_count": null,
   "id": "23264d42",
   "metadata": {},
   "outputs": [],
   "source": []
  }
 ],
 "metadata": {
  "kernelspec": {
   "display_name": "Python 3 (ipykernel)",
   "language": "python",
   "name": "python3"
  },
  "language_info": {
   "codemirror_mode": {
    "name": "ipython",
    "version": 3
   },
   "file_extension": ".py",
   "mimetype": "text/x-python",
   "name": "python",
   "nbconvert_exporter": "python",
   "pygments_lexer": "ipython3",
   "version": "3.9.12"
  }
 },
 "nbformat": 4,
 "nbformat_minor": 5
}
